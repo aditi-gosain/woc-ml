{
 "cells": [
  {
   "cell_type": "markdown",
   "metadata": {},
   "source": [
    "# Logistic Regression\n",
    "*From scratch using python*"
   ]
  },
  {
   "cell_type": "markdown",
   "metadata": {},
   "source": [
    "**Training set**"
   ]
  },
  {
   "cell_type": "code",
   "execution_count": 23,
   "metadata": {},
   "outputs": [],
   "source": [
    "import pandas as pd\n",
    "import numpy as np\n",
    "import matplotlib.pyplot as pl\n",
    "\n",
    "df=pd.read_csv(r\"C:\\Users\\aditi\\OneDrive\\Desktop\\mnist_train_small.csv\", header=None)\n",
    "m=df.shape[0]\n",
    "n=df.shape[1]\n",
    "alpha = 0.000009\n",
    "iteration = 3500\n"
   ]
  },
  {
   "cell_type": "code",
   "execution_count": 24,
   "metadata": {},
   "outputs": [],
   "source": [
    "X0=np.ones([m,1]) #Data preprocessing\n",
    "X1=(df.iloc[:, 1:n]).to_numpy()\n",
    "X2 = np.hstack((X0,X1)) #(m,n)\n",
    "X = X2.T #(n,m)\n",
    "theta=np.zeros([10,n]) #(10,n)\n",
    "Y1 = (df.iloc[:,0:1]).to_numpy() #(m, 1)\n"
   ]
  },
  {
   "cell_type": "code",
   "execution_count": 25,
   "metadata": {},
   "outputs": [],
   "source": [
    "def log_reg(t): #Function for logistic regression for binary classification\n",
    "    global theta, Y, H\n",
    "    theta = np.zeros([1,n]) #(1,n)\n",
    "    Y = np.zeros([m,1]) #(m,1)\n",
    "\n",
    "    for i in range(m):\n",
    "        if (Y1[i][0]==t):\n",
    "            Y[i][0]=1\n",
    "\n",
    "\n",
    "    for i in range(iteration):\n",
    "        Z=np.dot(theta,X) #(1,n)*(n,m)=(1,m)\n",
    "        H=1/(1+np.exp(-(Z))) #(1,m)\n",
    "        J=(-1/m)*((np.dot(np.log(H),Y))+np.dot(np.log(1-H),(1-Y)))\n",
    "        dJ=(1/m)*np.dot((H - (Y.T)),X2) #(1,m)*(m,1)=(1,n)\n",
    "        theta = theta-alpha*dJ #(1,n)"
   ]
  },
  {
   "cell_type": "code",
   "execution_count": 26,
   "metadata": {},
   "outputs": [],
   "source": [
    "def multi_call(): #Function for multi-class logistic regression using one vs. rest strategy\n",
    "    global theta_multi\n",
    "    H_multi=np.zeros([10,m])\n",
    "    Y_multi=np.zeros([m,10])\n",
    "    theta_multi=np.zeros([10,n])\n",
    "    for i in range (10):\n",
    "        log_reg(i)\n",
    "        H_multi[i,:] = H\n",
    "        Y_multi[:,i] = Y.T\n",
    "        theta_multi[i,:] = theta\n",
    "        print(\"Logistic regression for class \",i,\" done.\")\n",
    "        \n",
    "    accuracy = 0 \n",
    "    for col in range(10): #Calculating accuracy of model\n",
    "        for row in range(m):\n",
    "            if Y_multi[row,col] == 1 and H_multi[col, row] >= 0.5:\n",
    "                accuracy += 1\n",
    "            elif Y_multi[row,col] == 0 and H_multi[col, row] < 0.5:\n",
    "                accuracy += 1\n",
    "        \n",
    "    acc = (accuracy/(m*10))*100\n",
    "    print(\"Out of \",m*10,\" cases, number of cases predicted correctly: \",accuracy)\n",
    "    print(\"Accuracy %: \",acc)\n"
   ]
  },
  {
   "cell_type": "code",
   "execution_count": 27,
   "metadata": {},
   "outputs": [
    {
     "name": "stdout",
     "output_type": "stream",
     "text": [
      "Logistic regression for class  0  done.\n",
      "Logistic regression for class  1  done.\n",
      "Logistic regression for class  2  done.\n",
      "Logistic regression for class  3  done.\n",
      "Logistic regression for class  4  done.\n",
      "Logistic regression for class  5  done.\n",
      "Logistic regression for class  6  done.\n",
      "Logistic regression for class  7  done.\n",
      "Logistic regression for class  8  done.\n",
      "Logistic regression for class  9  done.\n",
      "Out of  200000  cases, number of cases predicted correctly:  195916\n",
      "Accuracy %:  97.958\n"
     ]
    }
   ],
   "source": [
    "multi_call() #Function call"
   ]
  },
  {
   "cell_type": "markdown",
   "metadata": {},
   "source": [
    "**Test set**"
   ]
  },
  {
   "cell_type": "code",
   "execution_count": 28,
   "metadata": {},
   "outputs": [],
   "source": [
    "df=pd.read_csv(r\"C:\\Users\\aditi\\OneDrive\\Desktop\\mnist_test.csv\", header=None)\n",
    "m=df.shape[0]\n",
    "n=df.shape[1]\n",
    "alpha = 0.000009\n",
    "iteration = 3500"
   ]
  },
  {
   "cell_type": "code",
   "execution_count": 37,
   "metadata": {},
   "outputs": [],
   "source": [
    "X0=np.ones([m,1]) #Data preprocessing\n",
    "X1=(df.iloc[:, 1:n]).to_numpy()\n",
    "X2 = np.hstack((X0,X1)) #(m,n)\n",
    "X = X2.T #(n,m)\n",
    "Y1 = (df.iloc[:,0:1]).to_numpy() #(m, 1)\n",
    "Y_multi_test = np.zeros([m,10]) #(m,1)\n",
    "for j in range(10):\n",
    "    for i in range(m):\n",
    "        if (Y1[i][0]==j):\n",
    "            Y_multi_test[i][j]=1"
   ]
  },
  {
   "cell_type": "code",
   "execution_count": 39,
   "metadata": {},
   "outputs": [
    {
     "name": "stdout",
     "output_type": "stream",
     "text": [
      "Logistic regression for class  0  done.\n",
      "Logistic regression for class  1  done.\n",
      "Logistic regression for class  2  done.\n",
      "Logistic regression for class  3  done.\n",
      "Logistic regression for class  4  done.\n",
      "Logistic regression for class  5  done.\n",
      "Logistic regression for class  6  done.\n",
      "Logistic regression for class  7  done.\n",
      "Logistic regression for class  8  done.\n",
      "Logistic regression for class  9  done.\n",
      "Out of  100000  cases, number of cases predicted correctly:  97739\n",
      "Accuracy %:  97.739\n"
     ]
    }
   ],
   "source": [
    "H_multi_test=np.zeros([10,m])\n",
    "for i in range (10): #Predicting Hypothesis using model\n",
    "        Z=np.dot(theta_multi[i,:],X) #(1,n)*(n,m)=(1,m)\n",
    "        H=1/(1+np.exp(-(Z))) #(1,m)\n",
    "        H_multi_test[i,:] = H\n",
    "        print(\"Logistic regression for class \",i,\" done.\")\n",
    "\n",
    "accuracy = 0 \n",
    "for col in range(10): #Calculating accuracy of model\n",
    "    for row in range(m):\n",
    "        if Y_multi_test[row,col] == 1 and H_multi_test[col, row] >= 0.5:\n",
    "             accuracy += 1\n",
    "        elif Y_multi_test[row,col] == 0 and H_multi_test[col, row] < 0.5:\n",
    "             accuracy += 1\n",
    "                \n",
    "acc = (accuracy/(m*10))*100\n",
    "print(\"Out of \",m*10,\" cases, number of cases predicted correctly: \",accuracy)\n",
    "print(\"Accuracy %: \",acc)"
   ]
  },
  {
   "cell_type": "code",
   "execution_count": null,
   "metadata": {},
   "outputs": [],
   "source": []
  }
 ],
 "metadata": {
  "kernelspec": {
   "display_name": "Python 3",
   "language": "python",
   "name": "python3"
  },
  "language_info": {
   "codemirror_mode": {
    "name": "ipython",
    "version": 3
   },
   "file_extension": ".py",
   "mimetype": "text/x-python",
   "name": "python",
   "nbconvert_exporter": "python",
   "pygments_lexer": "ipython3",
   "version": "3.8.3"
  }
 },
 "nbformat": 4,
 "nbformat_minor": 4
}
