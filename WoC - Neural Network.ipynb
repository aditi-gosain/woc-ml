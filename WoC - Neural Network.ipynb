{
 "cells": [
  {
   "cell_type": "markdown",
   "metadata": {},
   "source": [
    "# Neural Network\n",
    "*From scratch using Python*"
   ]
  },
  {
   "cell_type": "markdown",
   "metadata": {},
   "source": [
    "**Training set**"
   ]
  },
  {
   "cell_type": "code",
   "execution_count": 155,
   "metadata": {},
   "outputs": [],
   "source": [
    "import pandas as pd\n",
    "import numpy as np\n",
    "\n",
    "df=pd.read_csv(r\"C:\\Users\\aditi\\OneDrive\\Desktop\\mnist_train_small.csv\", header=None)\n",
    "m=df.shape[0]\n",
    "n=df.shape[1]\n",
    "iteration = 500\n",
    "alpha = 0.0009\n",
    "\n",
    "X0=np.ones([m,1])\n",
    "X1=(df.iloc[:, 1:n]).to_numpy()\n",
    "X2 = np.hstack((X0,X1)) #(m,n)\n",
    "X = X2.T #(n,m)\n",
    "Y1 = (df.iloc[:,0:1]).to_numpy() #(m, 1)"
   ]
  },
  {
   "cell_type": "code",
   "execution_count": 145,
   "metadata": {},
   "outputs": [],
   "source": [
    "theta1_grad = np.zeros([16,785])\n",
    "theta2_grad = np.zeros([16,17])\n",
    "theta3_grad = np.zeros([10,17])\n",
    "\n",
    "Y = np.zeros([m,10]) #(m,10)\n",
    "for j in range(10):\n",
    "    for i in range(m):\n",
    "        if (Y1[i][0]==j):\n",
    "            Y[i][j]=1\n",
    "\n",
    "theta_1 = np.random.rand(16,785) \n",
    "theta_2 = np.random.rand(16,17)\n",
    "theta_3 = np.random.rand(10,17)       "
   ]
  },
  {
   "cell_type": "code",
   "execution_count": 146,
   "metadata": {},
   "outputs": [],
   "source": [
    "def sigmoid_func(Z, derivative=False):\n",
    "    if derivative:\n",
    "        return (Z)*(1-Z)\n",
    "    return 1/(1 + np.exp(-Z))"
   ]
  },
  {
   "cell_type": "code",
   "execution_count": 147,
   "metadata": {},
   "outputs": [],
   "source": [
    "def forward_prop(t):\n",
    "    \n",
    "    global A1, A2, A3, A4\n",
    "    A0 = np.ones([1]) \n",
    "    \n",
    "    A1 = X[:,t] #(n,1)\n",
    "    Z1 = np.dot(theta_1,A1) #(16,n)*(n,1) = (16,1)\n",
    "        \n",
    "    A2 = np.concatenate((A0,sigmoid_func(Z1))) #(17,1)\n",
    "    Z2 = np.dot(theta_2,A2) #(16,17)*(17,1) = (16,1)\n",
    "    \n",
    "    A3 = np.concatenate((A0,sigmoid_func(Z2))) #(17,1))\n",
    "    Z3 = np.dot(theta_3,A3) #(10,17)*(17,1) = (10,1)\n",
    "    \n",
    "    A4 = sigmoid_func(Z3) #(10,1)\n"
   ]
  },
  {
   "cell_type": "code",
   "execution_count": 148,
   "metadata": {},
   "outputs": [],
   "source": [
    "def back_prop(u):\n",
    "    \n",
    "    global theta1_grad, theta2_grad, theta3_grad\n",
    "    \n",
    "    del_4 = A4-Y[u,:] #(10,1)\n",
    "    del_3 = (np.dot(theta_3.T,del_4))*(sigmoid_func(A3, derivative=True)) #(17,10)*(10,1)] = (17,1) > (16,1)\n",
    "    del_3 = del_3[1:]\n",
    "    del_2 = (np.dot(theta_2.T,del_3))*(sigmoid_func(A2, derivative=True)) #(17,16)*(17,1) > (16,1)\n",
    "    del_2 = del_2[1:]\n",
    "    \n",
    "    theta1_grad = theta1_grad + np.dot(del_2.reshape(16,1),A1.reshape(1,n)) #(16,1)*(1,n)=(16,n)\n",
    "    theta2_grad = theta2_grad + np.dot(del_3.reshape(16,1),A2.reshape(1,17)) #(16,1)*(1,17)=(16,17)\n",
    "    theta3_grad = theta3_grad + np.dot(del_4.reshape(10,1),A3.reshape(1,17)) #(10,1)*(1,17)=(10,17)\n",
    "  \n",
    "    return theta1_grad, theta2_grad, theta3_grad\n",
    "    "
   ]
  },
  {
   "cell_type": "code",
   "execution_count": 149,
   "metadata": {},
   "outputs": [],
   "source": [
    "def update_params(D1,D2,D3):\n",
    "    global theta_1, theta_2, theta_3\n",
    "    theta_1 = theta_1 - alpha*D1\n",
    "    theta_2 = theta_2 - alpha*D2\n",
    "    theta_3 = theta_3 - alpha*D3"
   ]
  },
  {
   "cell_type": "code",
   "execution_count": 150,
   "metadata": {},
   "outputs": [],
   "source": [
    "def grad_desc():\n",
    "    global D1, D2, D3\n",
    "    for j in range(iteration):  \n",
    "        for i in range(m):\n",
    "            forward_prop(i)\n",
    "            theta1_grad, theta2_grad, theta3_grad = back_prop(i)\n",
    "        D1 = (1/m)*theta1_grad\n",
    "        D2 = (1/m)*theta2_grad\n",
    "        D3 = (1/m)*theta3_grad\n",
    "        \n",
    "        update_params(D1,D2,D3)\n",
    "    "
   ]
  },
  {
   "cell_type": "code",
   "execution_count": 151,
   "metadata": {},
   "outputs": [],
   "source": [
    "def prediction():\n",
    "    accuracy = 0\n",
    "    for i in range (m):\n",
    "        forward_prop(i)\n",
    "        if np.argmax(A4)==np.argmax(Y[i,:]):\n",
    "            accuracy+=1\n",
    "         \n",
    "    print(\"Number of cases predicted correctly: \", accuracy)\n",
    "    print(\"Accuracy %: \", (accuracy/m)*100)\n"
   ]
  },
  {
   "cell_type": "code",
   "execution_count": 152,
   "metadata": {},
   "outputs": [
    {
     "name": "stdout",
     "output_type": "stream",
     "text": [
      "Number of cases predicted correctly:  2021\n",
      "Accuracy %:  10.105\n"
     ]
    }
   ],
   "source": [
    "grad_desc()\n",
    "prediction()"
   ]
  },
  {
   "cell_type": "markdown",
   "metadata": {},
   "source": [
    "**Testing set**"
   ]
  },
  {
   "cell_type": "code",
   "execution_count": 153,
   "metadata": {},
   "outputs": [],
   "source": [
    "df=pd.read_csv(r\"C:\\Users\\aditi\\OneDrive\\Desktop\\mnist_test.csv\", header=None)\n",
    "m=df.shape[0]\n",
    "n=df.shape[1]\n",
    "\n",
    "X0=np.ones([m,1])\n",
    "X1=(df.iloc[:, 1:n]).to_numpy()\n",
    "X2 = np.hstack((X0,X1)) #(m,n)\n",
    "X = X2.T #(n,m)\n",
    "Y1 = (df.iloc[:,0:1]).to_numpy() #(m, 1)\n",
    "\n",
    "Y = np.zeros([m,10]) #(m,10)\n",
    "for j in range(10):\n",
    "    for i in range(m):\n",
    "        if (Y1[i][0]==j):\n",
    "            Y[i][j]=1"
   ]
  },
  {
   "cell_type": "code",
   "execution_count": 154,
   "metadata": {},
   "outputs": [
    {
     "name": "stdout",
     "output_type": "stream",
     "text": [
      "Number of cases predicted correctly:  1010\n",
      "Accuracy %:  10.100000000000001\n"
     ]
    }
   ],
   "source": [
    "prediction()"
   ]
  },
  {
   "cell_type": "code",
   "execution_count": null,
   "metadata": {},
   "outputs": [],
   "source": []
  }
 ],
 "metadata": {
  "kernelspec": {
   "display_name": "Python 3",
   "language": "python",
   "name": "python3"
  },
  "language_info": {
   "codemirror_mode": {
    "name": "ipython",
    "version": 3
   },
   "file_extension": ".py",
   "mimetype": "text/x-python",
   "name": "python",
   "nbconvert_exporter": "python",
   "pygments_lexer": "ipython3",
   "version": "3.8.3"
  }
 },
 "nbformat": 4,
 "nbformat_minor": 4
}
