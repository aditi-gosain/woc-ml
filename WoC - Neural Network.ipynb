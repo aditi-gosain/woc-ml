{
 "cells": [
  {
   "cell_type": "markdown",
   "metadata": {},
   "source": [
    "# Neural Network\n",
    "*From scratch using Python*"
   ]
  },
  {
   "cell_type": "markdown",
   "metadata": {},
   "source": [
    "**Training set**"
   ]
  },
  {
   "cell_type": "code",
   "execution_count": 66,
   "metadata": {},
   "outputs": [],
   "source": [
    "import pandas as pd\n",
    "import numpy as np\n",
    "\n",
    "df=pd.read_csv(r\"C:\\Users\\aditi\\OneDrive\\Desktop\\mnist_train_small.csv\", header=None)\n",
    "m=df.shape[0]\n",
    "n=df.shape[1]\n",
    "iteration = 100\n",
    "alpha = 0.0009\n",
    "\n",
    "X0=np.ones([m,1])\n",
    "X1=(df.iloc[:, 1:n]).to_numpy()\n",
    "X2 = np.hstack((X0,X1)) #(m,n)\n",
    "X = X2.T #(n,m)\n",
    "Y1 = (df.iloc[:,0:1]).to_numpy() #(m, 1)"
   ]
  },
  {
   "cell_type": "code",
   "execution_count": 67,
   "metadata": {},
   "outputs": [],
   "source": [
    "#One hot encoding of Y\n",
    "Y = np.zeros([m,10]) #(m,10)\n",
    "for j in range(10):\n",
    "    for i in range(m):\n",
    "        if (Y1[i][0]==j):\n",
    "            Y[i][j]=1\n",
    "\n",
    "theta_1 = np.random.rand(16,785) \n",
    "theta_2 = np.random.rand(16,17)\n",
    "theta_3 = np.random.rand(10,17)       "
   ]
  },
  {
   "cell_type": "code",
   "execution_count": 68,
   "metadata": {},
   "outputs": [],
   "source": [
    "def sigmoid_func(Z, derivative=False):\n",
    "    if derivative:\n",
    "        return (np.exp(-Z))/((np.exp(-Z)+1)**2)\n",
    "    return 1/(1 + np.exp(-Z))"
   ]
  },
  {
   "cell_type": "code",
   "execution_count": 69,
   "metadata": {},
   "outputs": [],
   "source": [
    "def relU(Z, derivative=False):\n",
    "        if derivative:\n",
    "            return Z > 0\n",
    "        return np.maximum(0,Z)"
   ]
  },
  {
   "cell_type": "code",
   "execution_count": 70,
   "metadata": {},
   "outputs": [],
   "source": [
    "def forward_prop():\n",
    "    \n",
    "    global A1, A2, A3, A4\n",
    "    A0 = np.ones([1,m]) \n",
    "    \n",
    "    A1 = X #(n,m)\n",
    "    Z1 = np.dot(theta_1,A1) #(16,n)*(n,m) = (16,m)\n",
    "        \n",
    "    A2 = np.concatenate((A0,sigmoid_func(Z1))) #(17,m)\n",
    "    Z2 = np.dot(theta_2,A2) #(16,17)*(17,m) = (16,m)\n",
    "    \n",
    "    A3 = np.concatenate((A0,sigmoid_func(Z2))) #(17,m))\n",
    "    Z3 = np.dot(theta_3,A3) #(10,17)*(17,m) = (10,m)\n",
    "    \n",
    "    A4 = sigmoid_func(Z3) #(10,m)\n"
   ]
  },
  {
   "cell_type": "code",
   "execution_count": 71,
   "metadata": {},
   "outputs": [],
   "source": [
    "def back_prop():\n",
    "    \n",
    "    global D1, D2, D3\n",
    "    \n",
    "    del_4 = A4-Y.T #(10,m)\n",
    "    del_3 = (np.dot(theta_3.T,del_4))*(sigmoid_func(A3, derivative=True)) \n",
    "    del_3 = del_3[1:,:]\n",
    "    del_2 = (np.dot(theta_2.T,del_3))*(sigmoid_func(A2, derivative=True)) \n",
    "    del_2 = del_2[1:,:]\n",
    "    \n",
    "    D1 = (1/m)*np.dot(del_2,A1.T) #(16,m)*(m,n)=(16,n)\n",
    "    D2 = (1/m)*np.dot(del_3,A2.T) #(16,m)*(m,17)=(16,17)\n",
    "    D3 = (1/m)*np.dot(del_4,A3.T) #(10,m)*(m,17)=(10,17)\n",
    "  \n",
    "    return D1, D2, D3 \n"
   ]
  },
  {
   "cell_type": "code",
   "execution_count": 72,
   "metadata": {},
   "outputs": [],
   "source": [
    "def update_params(D1,D2,D3):\n",
    "    \n",
    "    global theta_1, theta_2, theta_3\n",
    "    \n",
    "    theta_1 = theta_1 - alpha*D1\n",
    "    theta_2 = theta_2 - alpha*D2\n",
    "    theta_3 = theta_3 - alpha*D3"
   ]
  },
  {
   "cell_type": "code",
   "execution_count": 73,
   "metadata": {},
   "outputs": [],
   "source": [
    "def call():\n",
    "    for j in range(iteration):  \n",
    "        forward_prop()\n",
    "        D1, D2, D3 = back_prop()\n",
    "        update_params(D1,D2,D3)"
   ]
  },
  {
   "cell_type": "code",
   "execution_count": 74,
   "metadata": {},
   "outputs": [],
   "source": [
    "def accuracy():\n",
    "    accuracy = 0\n",
    "    for i in range (m):\n",
    "        if np.argmax(A4[:,i])==np.argmax(Y[i,:]):\n",
    "            accuracy+=1\n",
    "         \n",
    "    print(\"Number of cases predicted correctly: \", accuracy)\n",
    "    print(\"Accuracy %: \", (accuracy/m)*100)\n"
   ]
  },
  {
   "cell_type": "code",
   "execution_count": 75,
   "metadata": {},
   "outputs": [
    {
     "name": "stderr",
     "output_type": "stream",
     "text": [
      "<ipython-input-68-1467bd13f6f1>:4: RuntimeWarning: overflow encountered in exp\n",
      "  return 1/(1 + np.exp(-Z))\n"
     ]
    },
    {
     "name": "stdout",
     "output_type": "stream",
     "text": [
      "Number of cases predicted correctly:  2039\n",
      "Accuracy %:  10.195\n"
     ]
    }
   ],
   "source": [
    "call()\n",
    "accuracy()"
   ]
  },
  {
   "cell_type": "markdown",
   "metadata": {},
   "source": [
    "**Testing set**"
   ]
  },
  {
   "cell_type": "code",
   "execution_count": 76,
   "metadata": {},
   "outputs": [],
   "source": [
    "df=pd.read_csv(r\"C:\\Users\\aditi\\OneDrive\\Desktop\\mnist_test.csv\", header=None)\n",
    "m=df.shape[0]\n",
    "n=df.shape[1]\n",
    "\n",
    "X0=np.ones([m,1])\n",
    "X1=(df.iloc[:, 1:n]).to_numpy()\n",
    "X2 = np.hstack((X0,X1)) #(m,n)\n",
    "X = X2.T #(n,m)\n",
    "Y1 = (df.iloc[:,0:1]).to_numpy() #(m, 1)\n",
    "\n",
    "Y = np.zeros([m,10]) #(m,10)\n",
    "for j in range(10):\n",
    "    for i in range(m):\n",
    "        if (Y1[i][0]==j):\n",
    "            Y[i][j]=1"
   ]
  },
  {
   "cell_type": "code",
   "execution_count": 77,
   "metadata": {},
   "outputs": [
    {
     "name": "stdout",
     "output_type": "stream",
     "text": [
      "Number of cases predicted correctly:  958\n",
      "Accuracy %:  9.58\n"
     ]
    }
   ],
   "source": [
    "accuracy()"
   ]
  }
 ],
 "metadata": {
  "kernelspec": {
   "display_name": "Python 3",
   "language": "python",
   "name": "python3"
  },
  "language_info": {
   "codemirror_mode": {
    "name": "ipython",
    "version": 3
   },
   "file_extension": ".py",
   "mimetype": "text/x-python",
   "name": "python",
   "nbconvert_exporter": "python",
   "pygments_lexer": "ipython3",
   "version": "3.8.3"
  }
 },
 "nbformat": 4,
 "nbformat_minor": 4
}
