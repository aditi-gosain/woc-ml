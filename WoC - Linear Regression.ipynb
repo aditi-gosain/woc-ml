{
 "cells": [
  {
   "cell_type": "markdown",
   "metadata": {},
   "source": [
    "# Linear Regression\n",
    "*From scratch using Python*"
   ]
  },
  {
   "cell_type": "markdown",
   "metadata": {},
   "source": [
    "**Visualisation**"
   ]
  },
  {
   "cell_type": "code",
   "execution_count": 2,
   "metadata": {},
   "outputs": [
    {
     "data": {
      "image/png": "[encoded data removed]",
      "text/plain": [
       "<Figure size 432x288 with 1 Axes>"
      ]
     },
     "metadata": {
      "needs_background": "light"
     },
     "output_type": "display_data"
    }
   ],
   "source": [
    "import pandas as pd\n",
    "import numpy as np\n",
    "import matplotlib.pyplot as pl\n",
    "\n",
    "df=pd.read_csv(r\"C:\\Users\\aditi\\OneDrive\\Desktop\\mnist_train_small.csv\", header=None)\n",
    "n=df.shape[1]\n",
    "pixels=(df.iloc[1:2,1:n]).to_numpy() #Visualisation of second training example\n",
    "pixels = pixels.reshape((28, 28))\n",
    "pl.imshow(pixels, cmap='gray')\n",
    "pl.show()\n",
    "\n"
   ]
  },
  {
   "cell_type": "markdown",
   "metadata": {},
   "source": [
    "**Linear Regression (Training set)**"
   ]
  },
  {
   "cell_type": "code",
   "execution_count": 3,
   "metadata": {},
   "outputs": [
    {
     "name": "stdout",
     "output_type": "stream",
     "text": [
      "Value of cost function:  7787553.845918662\n",
      "Alpha:  0.001\n",
      "Number of iterations:  6000\n",
      "R squared value:  [[1.         0.62307676]\n",
      " [0.62307676 1.        ]]\n"
     ]
    },
    {
     "data": {
      "image/png": "[encoded data removed]",
      "text/plain": [
       "<Figure size 432x288 with 1 Axes>"
      ]
     },
     "metadata": {
      "needs_background": "light"
     },
     "output_type": "display_data"
    }
   ],
   "source": [
    "import pandas as pd\n",
    "import numpy as np\n",
    "import matplotlib.pyplot as pl\n",
    "\n",
    "df=pd.read_csv(r\"C:\\Users\\aditi\\OneDrive\\Desktop\\mnist_train_small.csv\", header=None)\n",
    "m=df.shape[0]\n",
    "n=df.shape[1]\n",
    "alpha = 0.001\n",
    "iteration = 6000\n",
    "\n",
    "X0=np.ones([m,1])\n",
    "X1=(df.iloc[:, 1:n]).to_numpy()\n",
    "X2 = np.hstack((X0,X1)) #(m,n)\n",
    "Xmean = (np.sum(X2, axis=0))/m #(1,n)\n",
    "Xnorm=(X2-Xmean)/255 #(m,n)-(1,n)\n",
    "X = (Xnorm.T) #(n,m)\n",
    "theta=np.zeros([1,n]) #(1,n)\n",
    "Y1 = (df.iloc[:,0:1]).to_numpy() #(m, 1)\n",
    "Ymean=(np.sum(Y1, axis=0))/m\n",
    "Ynorm=(Y1-Ymean)/9\n",
    "Y = (Ynorm.T) #(1,m) \n",
    "\n",
    "for i in range(iteration):\n",
    "    H=np.dot(theta,X) #(1,n)*(n,m)=(1,m)\n",
    "    J=(1/2*m)*np.sum(np.square(H-Y))\n",
    "    dJ=(1/m)*np.dot((H-Y),X2)\n",
    "    theta = theta-alpha*dJ\n",
    "    pl.scatter(i,J)\n",
    "\n",
    "\n",
    "print(\"Value of cost function: \",J)\n",
    "print(\"Alpha: \",alpha)\n",
    "print(\"Number of iterations: \",iteration)\n",
    "print(\"R squared value: \",(np.corrcoef(Y,H))**2)\n"
   ]
  },
  {
   "cell_type": "markdown",
   "metadata": {},
   "source": [
    "**Linear Regression (Test set)**"
   ]
  },
  {
   "cell_type": "code",
   "execution_count": 4,
   "metadata": {},
   "outputs": [
    {
     "name": "stdout",
     "output_type": "stream",
     "text": [
      "Value of cost function:  1965381.0094817677\n",
      "R squared value:  [[1.         0.62029307]\n",
      " [0.62029307 1.        ]]\n"
     ]
    }
   ],
   "source": [
    "df=pd.read_csv(r\"C:\\Users\\aditi\\OneDrive\\Desktop\\mnist_test.csv\", header=None)\n",
    "m=df.shape[0]\n",
    "n=df.shape[1]\n",
    "\n",
    "X0=np.ones([m,1])\n",
    "X1=(df.iloc[:, 1:n]).to_numpy()\n",
    "X2 = np.hstack((X0,X1)) #(m,n)\n",
    "Xmean = (np.sum(X2, axis=0))/m #(1,n)\n",
    "Xnorm=(X2-Xmean)/255 #(m,n)-(1,n)\n",
    "X = (Xnorm.T) #(n,m)\n",
    "Y1 = (df.iloc[:,0:1]).to_numpy() #(m, 1)\n",
    "Ymean=(np.sum(Y1, axis=0))/m\n",
    "Ynorm=(Y1-Ymean)/9\n",
    "Y = (Ynorm.T) #(1,m) \n",
    "\n",
    "\n",
    "H=np.dot(theta,X) #(1,n)*(n,m)=(1,m)\n",
    "J=(1/2*m)*np.sum(np.square(H-Y))\n",
    "    \n",
    "\n",
    "print(\"Value of cost function: \",J)\n",
    "print(\"R squared value: \",(np.corrcoef(Y,H))**2)\n"
   ]
  },
  {
   "cell_type": "code",
   "execution_count": null,
   "metadata": {},
   "outputs": [],
   "source": []
  }
 ],
 "metadata": {
  "kernelspec": {
   "display_name": "Python 3",
   "language": "python",
   "name": "python3"
  },
  "language_info": {
   "codemirror_mode": {
    "name": "ipython",
    "version": 3
   },
   "file_extension": ".py",
   "mimetype": "text/x-python",
   "name": "python",
   "nbconvert_exporter": "python",
   "pygments_lexer": "ipython3",
   "version": "3.8.3"
  }
 },
 "nbformat": 4,
 "nbformat_minor": 4
}
