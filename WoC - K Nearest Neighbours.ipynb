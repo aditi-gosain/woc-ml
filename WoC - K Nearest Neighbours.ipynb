{
 "cells": [
  {
   "cell_type": "markdown",
   "metadata": {},
   "source": [
    "# K Nearest Neighbours \n",
    "*From scratch using python*"
   ]
  },
  {
   "cell_type": "code",
   "execution_count": 2,
   "metadata": {},
   "outputs": [],
   "source": [
    "import pandas as pd\n",
    "import numpy as np\n",
    "import matplotlib.pyplot as pl\n",
    " \n",
    "#Data Preprocessing \n",
    "\n",
    "df_train=pd.read_csv(r\"C:\\Users\\aditi\\OneDrive\\Desktop\\mnist_train_small.csv\", header=None) #Training dataset\n",
    "\n",
    "n=df_train.shape[1] #Number of features\n",
    "m_train=df_train.shape[0] #Number of training examples\n",
    "\n",
    "X_train=((df_train.iloc[:, 1:n]).to_numpy()).T #(n,m)\n",
    "Y_train = (df_train.iloc[:,0:1]).to_numpy() #(m,1)\n",
    "\n",
    "df_test=pd.read_csv(r\"C:\\Users\\aditi\\OneDrive\\Desktop\\mnist_test.csv\", header=None) #Testing dataset\n",
    "\n",
    "m_test=df_test.shape[0] #Number of training examples\n",
    "\n",
    "X_test=((df_test.iloc[:, 1:n]).to_numpy()).T #(n,m)\n",
    "Y_test = (df_test.iloc[:,0:1]).to_numpy() #(m,1)\n",
    "\n"
   ]
  },
  {
   "cell_type": "code",
   "execution_count": 3,
   "metadata": {},
   "outputs": [],
   "source": [
    "K=5 \n",
    "\n",
    "def KNN(P): #Function for finding KNN for one training example \n",
    "    distance=[]\n",
    "    Y_list=[]\n",
    "    for i in range (m_train):\n",
    "        dis = np.sqrt(np.sum((P-X_train[:,i])**2)) #Euclidean distance\n",
    "        distance.append(dis)\n",
    "    sort_index = np.argsort(distance)[:K]\n",
    "\n",
    "    for j in range(K):\n",
    "        Y_list.append(Y_train[sort_index[j]][0])\n",
    "    return max(set(Y_list), key = Y_list.count) \n",
    "    "
   ]
  },
  {
   "cell_type": "code",
   "execution_count": 4,
   "metadata": {},
   "outputs": [],
   "source": [
    "def call(): #Function for finding KNN for m training examples\n",
    "    predict=[]\n",
    "    for i in range (m_test):\n",
    "        pred = KNN(X_test[:,i])\n",
    "        predict.append(pred)\n",
    "        \n",
    "    accuracy=0  \n",
    "    for i in range (m_test): #Checking accuracy\n",
    "        if predict[i]==Y_test[i][0]:\n",
    "            accuracy+=1\n",
    "            \n",
    "    print(\"No of cases predicted correctly: \", accuracy)\n",
    "    print(\"% of correctly predicted cases: \", accuracy/m_test)"
   ]
  },
  {
   "cell_type": "code",
   "execution_count": 5,
   "metadata": {},
   "outputs": [
    {
     "name": "stdout",
     "output_type": "stream",
     "text": [
      "No of cases predicted correctly:  9592\n",
      "% of correctly predicted cases:  0.9592\n"
     ]
    }
   ],
   "source": [
    "call()"
   ]
  }
 ],
 "metadata": {
  "kernelspec": {
   "display_name": "Python 3",
   "language": "python",
   "name": "python3"
  },
  "language_info": {
   "codemirror_mode": {
    "name": "ipython",
    "version": 3
   },
   "file_extension": ".py",
   "mimetype": "text/x-python",
   "name": "python",
   "nbconvert_exporter": "python",
   "pygments_lexer": "ipython3",
   "version": "3.8.3"
  }
 },
 "nbformat": 4,
 "nbformat_minor": 4
}
